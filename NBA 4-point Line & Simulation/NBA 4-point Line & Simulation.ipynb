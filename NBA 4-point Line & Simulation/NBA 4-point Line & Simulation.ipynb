{
 "cells": [
  {
   "cell_type": "code",
   "execution_count": 1,
   "metadata": {},
   "outputs": [],
   "source": [
    "import pandas as pd\n",
    "import numpy as np\n",
    "import matplotlib.pyplot as plt\n",
    "import seaborn as sns"
   ]
  },
  {
   "cell_type": "code",
   "execution_count": 3,
   "metadata": {},
   "outputs": [
    {
     "data": {
      "text/html": [
       "<div>\n",
       "<style scoped>\n",
       "    .dataframe tbody tr th:only-of-type {\n",
       "        vertical-align: middle;\n",
       "    }\n",
       "\n",
       "    .dataframe tbody tr th {\n",
       "        vertical-align: top;\n",
       "    }\n",
       "\n",
       "    .dataframe thead th {\n",
       "        text-align: right;\n",
       "    }\n",
       "</style>\n",
       "<table border=\"1\" class=\"dataframe\">\n",
       "  <thead>\n",
       "    <tr style=\"text-align: right;\">\n",
       "      <th></th>\n",
       "      <th>GAME_ID</th>\n",
       "      <th>MATCHUP</th>\n",
       "      <th>LOCATION</th>\n",
       "      <th>W</th>\n",
       "      <th>FINAL_MARGIN</th>\n",
       "      <th>SHOT_NUMBER</th>\n",
       "      <th>PERIOD</th>\n",
       "      <th>GAME_CLOCK</th>\n",
       "      <th>SHOT_CLOCK</th>\n",
       "      <th>DRIBBLES</th>\n",
       "      <th>...</th>\n",
       "      <th>SHOT_DIST</th>\n",
       "      <th>PTS_TYPE</th>\n",
       "      <th>SHOT_RESULT</th>\n",
       "      <th>CLOSEST_DEFENDER</th>\n",
       "      <th>CLOSEST_DEFENDER_PLAYER_ID</th>\n",
       "      <th>CLOSE_DEF_DIST</th>\n",
       "      <th>FGM</th>\n",
       "      <th>PTS</th>\n",
       "      <th>player_name</th>\n",
       "      <th>player_id</th>\n",
       "    </tr>\n",
       "  </thead>\n",
       "  <tbody>\n",
       "    <tr>\n",
       "      <th>0</th>\n",
       "      <td>21400899</td>\n",
       "      <td>MAR 04, 2015 - CHA @ BKN</td>\n",
       "      <td>A</td>\n",
       "      <td>W</td>\n",
       "      <td>24</td>\n",
       "      <td>1</td>\n",
       "      <td>1</td>\n",
       "      <td>1:09</td>\n",
       "      <td>10.8</td>\n",
       "      <td>2</td>\n",
       "      <td>...</td>\n",
       "      <td>7.7</td>\n",
       "      <td>2</td>\n",
       "      <td>made</td>\n",
       "      <td>Anderson, Alan</td>\n",
       "      <td>101187</td>\n",
       "      <td>1.3</td>\n",
       "      <td>1</td>\n",
       "      <td>2</td>\n",
       "      <td>brian roberts</td>\n",
       "      <td>203148</td>\n",
       "    </tr>\n",
       "    <tr>\n",
       "      <th>1</th>\n",
       "      <td>21400899</td>\n",
       "      <td>MAR 04, 2015 - CHA @ BKN</td>\n",
       "      <td>A</td>\n",
       "      <td>W</td>\n",
       "      <td>24</td>\n",
       "      <td>2</td>\n",
       "      <td>1</td>\n",
       "      <td>0:14</td>\n",
       "      <td>3.4</td>\n",
       "      <td>0</td>\n",
       "      <td>...</td>\n",
       "      <td>28.2</td>\n",
       "      <td>3</td>\n",
       "      <td>missed</td>\n",
       "      <td>Bogdanovic, Bojan</td>\n",
       "      <td>202711</td>\n",
       "      <td>6.1</td>\n",
       "      <td>0</td>\n",
       "      <td>0</td>\n",
       "      <td>brian roberts</td>\n",
       "      <td>203148</td>\n",
       "    </tr>\n",
       "    <tr>\n",
       "      <th>2</th>\n",
       "      <td>21400899</td>\n",
       "      <td>MAR 04, 2015 - CHA @ BKN</td>\n",
       "      <td>A</td>\n",
       "      <td>W</td>\n",
       "      <td>24</td>\n",
       "      <td>3</td>\n",
       "      <td>1</td>\n",
       "      <td>0:00</td>\n",
       "      <td>NaN</td>\n",
       "      <td>3</td>\n",
       "      <td>...</td>\n",
       "      <td>10.1</td>\n",
       "      <td>2</td>\n",
       "      <td>missed</td>\n",
       "      <td>Bogdanovic, Bojan</td>\n",
       "      <td>202711</td>\n",
       "      <td>0.9</td>\n",
       "      <td>0</td>\n",
       "      <td>0</td>\n",
       "      <td>brian roberts</td>\n",
       "      <td>203148</td>\n",
       "    </tr>\n",
       "    <tr>\n",
       "      <th>3</th>\n",
       "      <td>21400899</td>\n",
       "      <td>MAR 04, 2015 - CHA @ BKN</td>\n",
       "      <td>A</td>\n",
       "      <td>W</td>\n",
       "      <td>24</td>\n",
       "      <td>4</td>\n",
       "      <td>2</td>\n",
       "      <td>11:47</td>\n",
       "      <td>10.3</td>\n",
       "      <td>2</td>\n",
       "      <td>...</td>\n",
       "      <td>17.2</td>\n",
       "      <td>2</td>\n",
       "      <td>missed</td>\n",
       "      <td>Brown, Markel</td>\n",
       "      <td>203900</td>\n",
       "      <td>3.4</td>\n",
       "      <td>0</td>\n",
       "      <td>0</td>\n",
       "      <td>brian roberts</td>\n",
       "      <td>203148</td>\n",
       "    </tr>\n",
       "    <tr>\n",
       "      <th>4</th>\n",
       "      <td>21400899</td>\n",
       "      <td>MAR 04, 2015 - CHA @ BKN</td>\n",
       "      <td>A</td>\n",
       "      <td>W</td>\n",
       "      <td>24</td>\n",
       "      <td>5</td>\n",
       "      <td>2</td>\n",
       "      <td>10:34</td>\n",
       "      <td>10.9</td>\n",
       "      <td>2</td>\n",
       "      <td>...</td>\n",
       "      <td>3.7</td>\n",
       "      <td>2</td>\n",
       "      <td>missed</td>\n",
       "      <td>Young, Thaddeus</td>\n",
       "      <td>201152</td>\n",
       "      <td>1.1</td>\n",
       "      <td>0</td>\n",
       "      <td>0</td>\n",
       "      <td>brian roberts</td>\n",
       "      <td>203148</td>\n",
       "    </tr>\n",
       "  </tbody>\n",
       "</table>\n",
       "<p>5 rows × 21 columns</p>\n",
       "</div>"
      ],
      "text/plain": [
       "    GAME_ID                   MATCHUP LOCATION  W  FINAL_MARGIN  SHOT_NUMBER  \\\n",
       "0  21400899  MAR 04, 2015 - CHA @ BKN        A  W            24            1   \n",
       "1  21400899  MAR 04, 2015 - CHA @ BKN        A  W            24            2   \n",
       "2  21400899  MAR 04, 2015 - CHA @ BKN        A  W            24            3   \n",
       "3  21400899  MAR 04, 2015 - CHA @ BKN        A  W            24            4   \n",
       "4  21400899  MAR 04, 2015 - CHA @ BKN        A  W            24            5   \n",
       "\n",
       "   PERIOD GAME_CLOCK  SHOT_CLOCK  DRIBBLES  ...  SHOT_DIST  PTS_TYPE  \\\n",
       "0       1       1:09        10.8         2  ...        7.7         2   \n",
       "1       1       0:14         3.4         0  ...       28.2         3   \n",
       "2       1       0:00         NaN         3  ...       10.1         2   \n",
       "3       2      11:47        10.3         2  ...       17.2         2   \n",
       "4       2      10:34        10.9         2  ...        3.7         2   \n",
       "\n",
       "   SHOT_RESULT   CLOSEST_DEFENDER CLOSEST_DEFENDER_PLAYER_ID  CLOSE_DEF_DIST  \\\n",
       "0         made     Anderson, Alan                     101187             1.3   \n",
       "1       missed  Bogdanovic, Bojan                     202711             6.1   \n",
       "2       missed  Bogdanovic, Bojan                     202711             0.9   \n",
       "3       missed      Brown, Markel                     203900             3.4   \n",
       "4       missed    Young, Thaddeus                     201152             1.1   \n",
       "\n",
       "   FGM  PTS    player_name player_id  \n",
       "0    1    2  brian roberts    203148  \n",
       "1    0    0  brian roberts    203148  \n",
       "2    0    0  brian roberts    203148  \n",
       "3    0    0  brian roberts    203148  \n",
       "4    0    0  brian roberts    203148  \n",
       "\n",
       "[5 rows x 21 columns]"
      ]
     },
     "execution_count": 3,
     "metadata": {},
     "output_type": "execute_result"
    }
   ],
   "source": [
    "df=pd.read_csv(r'E:\\Projects\\Data Science Projects\\NBA 4-point Line & Simulation\\shot_logs.csv')\n",
    "df.head()"
   ]
  },
  {
   "cell_type": "markdown",
   "metadata": {},
   "source": [
    "There has been significant buzz in the NBA about teams practicing with a 4-point line in their gyms. They are doing this to spread the floor and create more opportunities on offence. Additionally, the Big3 has introduced 4-point shots in specific circles on the court. While I don't think that a 4-point line will ever be introduced into the NBA, it is a fun exercise to see where the numbers suggest that it should be placed on the court."
   ]
  },
  {
   "cell_type": "markdown",
   "metadata": {},
   "source": [
    "In order to evaluate where a new 4 point line should go, we need to evaluate two project two things: \n",
    "\n",
    "(1) Make probability by distance and \n",
    "    \n",
    "(2) The probability density function of shots taken from 4 point range by distance In my previous workbook, I show why I believe that the 3-point line should actually be a consistent arc 25.2' from the rim rather than a 23.75' and 22' at the corners. The basis for this is that to make the 3-pointer less overpowering.\n",
    "\n",
    "We should make the points per shot of 3-point shots equal to those of 2-point shots. This equilibrium is met at 25.2' for this 2014-2015 dataset. When adding in the 4 point line, we will want to follow this same logic. We want the points per shot for 2-pointers == 3-pointers == 4-pointers. For this analysis I will be using the 25.2' mark as the 3 point line because this is my hypothetical world where NBA decision making is based on math. It should be noted that the 4-point line would technically shrink the number of shots in the 3-point line. Because of the low volume of truly deep 3's being shot, we will ignore this dynamic problem for the first pass at this analysis."
   ]
  },
  {
   "cell_type": "code",
   "execution_count": 4,
   "metadata": {},
   "outputs": [],
   "source": [
    "make_pct_pps_dist = pd.pivot_table(df, index='SHOT_DIST', values = ['FGM','PTS'] ).reset_index()\n",
    "make_pct_dist = pd.pivot_table(df, index='SHOT_DIST', values = ['FGM'] ).reset_index()\n",
    "make_pct_dist_cnt = pd.pivot_table(df, index='SHOT_DIST', values = ['FGM'], aggfunc='count' ).reset_index()"
   ]
  },
  {
   "cell_type": "code",
   "execution_count": 5,
   "metadata": {},
   "outputs": [],
   "source": [
    "make_pct_dist_cnt.columns = ['SHOT_DIST','SHOT_COUNT']"
   ]
  },
  {
   "cell_type": "code",
   "execution_count": 6,
   "metadata": {},
   "outputs": [
    {
     "data": {
      "text/plain": [
       "<AxesSubplot:xlabel='SHOT_DIST'>"
      ]
     },
     "execution_count": 6,
     "metadata": {},
     "output_type": "execute_result"
    },
    {
     "data": {
      "image/png": "[encoded data removed]",
      "text/plain": [
       "<Figure size 432x288 with 1 Axes>"
      ]
     },
     "metadata": {
      "needs_background": "light"
     },
     "output_type": "display_data"
    }
   ],
   "source": [
    "make_pct_dist_cnt.plot.line(x='SHOT_DIST')"
   ]
  },
  {
   "cell_type": "markdown",
   "metadata": {},
   "source": [
    "In the graph above, we plot the number of shots by distance on the court. As you can see, there are more shots just outside of 3-point range taken than any other unique shots on the court.\n",
    "\n",
    "- The first spike of volume is near the rim where the points per shot are relatively high.\n",
    "\n",
    "- I expect that the second spike are unguarded shots from mid range.\n",
    "\n",
    "- The third spike is right outside of 22' where the 3-point line comes in on the corners\n",
    "\n",
    "- The final spike is at 24.4' just a few inches into 3-point range\n",
    "\n",
    "From this, we expect that there would be a similar spike in volume around a 4-point line. For this analysis, the raw volume does not matter, we care about the % volume to get points per shot. For simplicity,I will use the same distribution for 4-point shots as we do for 3-point shots."
   ]
  },
  {
   "cell_type": "code",
   "execution_count": 7,
   "metadata": {},
   "outputs": [
    {
     "name": "stderr",
     "output_type": "stream",
     "text": [
      "<ipython-input-7-f5c3e28f694c>:3: SettingWithCopyWarning: \n",
      "A value is trying to be set on a copy of a slice from a DataFrame.\n",
      "Try using .loc[row_indexer,col_indexer] = value instead\n",
      "\n",
      "See the caveats in the documentation: https://pandas.pydata.org/pandas-docs/stable/user_guide/indexing.html#returning-a-view-versus-a-copy\n",
      "  threes['shot_pct'] = threes.SHOT_COUNT / total_threes\n"
     ]
    }
   ],
   "source": [
    "threes = make_pct_dist_cnt[make_pct_dist_cnt['SHOT_DIST'] > 23.75]\n",
    "total_threes = threes.SHOT_COUNT.sum()\n",
    "threes['shot_pct'] = threes.SHOT_COUNT / total_threes"
   ]
  },
  {
   "cell_type": "markdown",
   "metadata": {},
   "source": [
    "We can get % of shots taken from each incremental step outside of 3-point range. For the purposes of this analysis, we will assume the % volumes for a 4-point line will be the same by distance.\n",
    "\n",
    "(In reality, I expect the distribution would have a smaller shot distribution leading to more shots from very close to the 4-point line)"
   ]
  },
  {
   "cell_type": "code",
   "execution_count": 8,
   "metadata": {},
   "outputs": [
    {
     "data": {
      "text/html": [
       "<div>\n",
       "<style scoped>\n",
       "    .dataframe tbody tr th:only-of-type {\n",
       "        vertical-align: middle;\n",
       "    }\n",
       "\n",
       "    .dataframe tbody tr th {\n",
       "        vertical-align: top;\n",
       "    }\n",
       "\n",
       "    .dataframe thead th {\n",
       "        text-align: right;\n",
       "    }\n",
       "</style>\n",
       "<table border=\"1\" class=\"dataframe\">\n",
       "  <thead>\n",
       "    <tr style=\"text-align: right;\">\n",
       "      <th></th>\n",
       "      <th>SHOT_DIST</th>\n",
       "      <th>SHOT_COUNT</th>\n",
       "      <th>shot_pct</th>\n",
       "    </tr>\n",
       "  </thead>\n",
       "  <tbody>\n",
       "    <tr>\n",
       "      <th>238</th>\n",
       "      <td>23.8</td>\n",
       "      <td>719</td>\n",
       "      <td>0.028983</td>\n",
       "    </tr>\n",
       "    <tr>\n",
       "      <th>239</th>\n",
       "      <td>23.9</td>\n",
       "      <td>863</td>\n",
       "      <td>0.034787</td>\n",
       "    </tr>\n",
       "    <tr>\n",
       "      <th>240</th>\n",
       "      <td>24.0</td>\n",
       "      <td>1024</td>\n",
       "      <td>0.041277</td>\n",
       "    </tr>\n",
       "    <tr>\n",
       "      <th>241</th>\n",
       "      <td>24.1</td>\n",
       "      <td>1048</td>\n",
       "      <td>0.042244</td>\n",
       "    </tr>\n",
       "    <tr>\n",
       "      <th>242</th>\n",
       "      <td>24.2</td>\n",
       "      <td>1201</td>\n",
       "      <td>0.048412</td>\n",
       "    </tr>\n",
       "  </tbody>\n",
       "</table>\n",
       "</div>"
      ],
      "text/plain": [
       "     SHOT_DIST  SHOT_COUNT  shot_pct\n",
       "238       23.8         719  0.028983\n",
       "239       23.9         863  0.034787\n",
       "240       24.0        1024  0.041277\n",
       "241       24.1        1048  0.042244\n",
       "242       24.2        1201  0.048412"
      ]
     },
     "execution_count": 8,
     "metadata": {},
     "output_type": "execute_result"
    }
   ],
   "source": [
    "threes.head()"
   ]
  },
  {
   "cell_type": "markdown",
   "metadata": {},
   "source": [
    "For our analysis, we will simply add a number to all of the 3-point shot distances to make push them past where our fabricated 4-point line would be. For example, if we wanted to see what a 28.75' 4 point line would look like, we would add 5' to all of the three point values.\n",
    "\n",
    "This takes into account the % quantity of shots taken by distance.\n",
    "\n",
    "Next we have to predict the shot make probability by distance. I use a simple logistic regression to do this. The regression uses makes and misses (1,0) as the dependent variable and distance from the rim as the independent variable."
   ]
  },
  {
   "cell_type": "code",
   "execution_count": 9,
   "metadata": {},
   "outputs": [],
   "source": [
    "from sklearn.linear_model import LogisticRegression"
   ]
  },
  {
   "cell_type": "code",
   "execution_count": 10,
   "metadata": {},
   "outputs": [
    {
     "data": {
      "text/plain": [
       "<AxesSubplot:xlabel='SHOT_DIST'>"
      ]
     },
     "execution_count": 10,
     "metadata": {},
     "output_type": "execute_result"
    },
    {
     "data": {
      "image/png": "[encoded data removed]",
      "text/plain": [
       "<Figure size 432x288 with 1 Axes>"
      ]
     },
     "metadata": {
      "needs_background": "light"
     },
     "output_type": "display_data"
    },
    {
     "data": {
      "image/png": "[encoded data removed]",
      "text/plain": [
       "<Figure size 432x288 with 1 Axes>"
      ]
     },
     "metadata": {
      "needs_background": "light"
     },
     "output_type": "display_data"
    }
   ],
   "source": [
    "make_pct_dist.plot.line(x='SHOT_DIST')\n",
    "make_pct_dist_cnt.plot.line(x='SHOT_DIST')"
   ]
  },
  {
   "cell_type": "markdown",
   "metadata": {},
   "source": [
    "The above graph shows FGM % by distance. There is a clear downward trend starting at around 22'. We also see that the samples after around 27.5 feet get very small. Our goal is to project make probability past this mark.\n",
    "\n",
    "I believe that a model trained on only long jumpers (starting at 22') would be most representitive of 4-point jumpers. I trained the logistic regression with this model."
   ]
  },
  {
   "cell_type": "code",
   "execution_count": 11,
   "metadata": {},
   "outputs": [
    {
     "name": "stdout",
     "output_type": "stream",
     "text": [
      "Score:  0.6488711060302944\n"
     ]
    },
    {
     "name": "stderr",
     "output_type": "stream",
     "text": [
      "C:\\ProgramData\\Anaconda3\\lib\\site-packages\\sklearn\\utils\\validation.py:72: DataConversionWarning: A column-vector y was passed when a 1d array was expected. Please change the shape of y to (n_samples, ), for example using ravel().\n",
      "  return f(**kwargs)\n"
     ]
    }
   ],
   "source": [
    "three_range = df[df.SHOT_DIST > 22]\n",
    "log_reg = LogisticRegression(solver='lbfgs')\n",
    "log_reg.fit(three_range.SHOT_DIST.values.reshape(-1, 1),three_range.FGM.values.reshape(-1, 1))\n",
    "print('Score: ',log_reg.score(three_range.SHOT_DIST.values.reshape(-1, 1),three_range.FGM.values.reshape(-1, 1)))"
   ]
  },
  {
   "cell_type": "code",
   "execution_count": 12,
   "metadata": {},
   "outputs": [
    {
     "name": "stdout",
     "output_type": "stream",
     "text": [
      "predicted:  0.36410120935183987  actual:  0.3583984375\n"
     ]
    }
   ],
   "source": [
    "predicted_fgm_pct = log_reg.predict_proba(np.array(24).reshape(1,-1))\n",
    "actual_fgm_pct = float(make_pct_dist[make_pct_dist['SHOT_DIST'] == 24].FGM)\n",
    "print('predicted: ', predicted_fgm_pct[0][1], ' actual: ',actual_fgm_pct)"
   ]
  },
  {
   "cell_type": "code",
   "execution_count": 13,
   "metadata": {},
   "outputs": [
    {
     "name": "stdout",
     "output_type": "stream",
     "text": [
      "RMSE:  0.027429007209340068\n",
      "MAE:  0.01990371867498522\n"
     ]
    }
   ],
   "source": [
    "from sklearn.metrics import mean_absolute_error, mean_squared_error\n",
    "from math import sqrt\n",
    "\n",
    "makepcts = make_pct_dist[(make_pct_dist.SHOT_DIST >= 22) & (make_pct_dist.SHOT_DIST <= 27.3)]\n",
    "ypred = log_reg.predict_proba(makepcts.SHOT_DIST.values.reshape(-1,1))\n",
    "ypred[:,1]\n",
    "print('RMSE: ',sqrt(mean_squared_error(makepcts.FGM,ypred[:,1])))\n",
    "print('MAE: ',mean_absolute_error(makepcts.FGM,ypred[:,1]))"
   ]
  },
  {
   "cell_type": "code",
   "execution_count": 14,
   "metadata": {},
   "outputs": [
    {
     "data": {
      "text/plain": [
       "<matplotlib.legend.Legend at 0x2decf2f99a0>"
      ]
     },
     "execution_count": 14,
     "metadata": {},
     "output_type": "execute_result"
    },
    {
     "data": {
      "image/png": "[encoded data removed]",
      "text/plain": [
       "<Figure size 432x288 with 1 Axes>"
      ]
     },
     "metadata": {
      "needs_background": "light"
     },
     "output_type": "display_data"
    }
   ],
   "source": [
    "log_reg_curve = [log_reg.predict_proba(np.array(i/10).reshape(1,-1))[0][1] for i in range(220,940)]\n",
    "plt.plot([i/10 for i in range(220,940)], log_reg_curve)\n",
    "plt.axvline(x=22, label = 'corner 3', color = 'green')\n",
    "plt.axvline(x=23.75, label = '3 point arc', color = 'orange')\n",
    "plt.axvline(x=25.2, label = \"Ken's 3\", color = 'red')\n",
    "plt.axvline(x=47, label = \"Half Court\", color = 'black')\n",
    "plt.legend()"
   ]
  },
  {
   "cell_type": "markdown",
   "metadata": {},
   "source": [
    "This graph shows our projected make % by distance over the length of the court."
   ]
  },
  {
   "cell_type": "code",
   "execution_count": 15,
   "metadata": {},
   "outputs": [
    {
     "data": {
      "text/plain": [
       "[<matplotlib.lines.Line2D at 0x2decf9b48b0>]"
      ]
     },
     "execution_count": 15,
     "metadata": {},
     "output_type": "execute_result"
    },
    {
     "data": {
      "image/png": "[encoded data removed]",
      "text/plain": [
       "<Figure size 432x288 with 1 Axes>"
      ]
     },
     "metadata": {
      "needs_background": "light"
     },
     "output_type": "display_data"
    }
   ],
   "source": [
    "log_reg_curve = [log_reg.predict_proba(np.array(i/10).reshape(-1,1))[0][1] for i in range(220,275)]\n",
    "actual_fgm_pct = [float(make_pct_dist[make_pct_dist['SHOT_DIST'] == i/10].FGM) for i in range(220,275)]\n",
    "plt.plot([i/10 for i in range(220,275)], log_reg_curve)\n",
    "plt.plot([i/10 for i in range(220,275)], actual_fgm_pct)"
   ]
  },
  {
   "cell_type": "markdown",
   "metadata": {},
   "source": [
    "This graph shows projected vs actual make percent by distance. There is a clear downward trend, however there is obviously a lot of noise in the real data.\n",
    "\n",
    "Now we get to do the fun stuff, we get to project where the actual 4 point line should be. Again, we do this by setting the points per shot of the 4-point shots equal to those of 3-pointers and 2-pointers.\n",
    "\n",
    "To get points per shot for 4-pointers we use the following equation: points_per_shot_from_range = (% of shots from certain range) x (make % from that range) next we sum(points_per_shot_from_range) for all 4-point shots.\n",
    "\n",
    "We want to set the points per shot = ~.9 (as seen in my 3-point line analysis)"
   ]
  },
  {
   "cell_type": "code",
   "execution_count": 16,
   "metadata": {},
   "outputs": [],
   "source": [
    "ken_threes = threes.copy()\n",
    "ken_threes['SHOT_DIST'] = ken_threes.SHOT_DIST.apply(lambda x: x+1.45)\n",
    "ken_threes['shot_pct'] = ken_threes.SHOT_COUNT / ken_threes.SHOT_COUNT.sum()"
   ]
  },
  {
   "cell_type": "code",
   "execution_count": 17,
   "metadata": {},
   "outputs": [],
   "source": [
    "ken_threes['proj_make_pct'] = ken_threes.SHOT_DIST.apply(lambda x: log_reg.predict_proba(np.array(x).reshape(-1,1))[0][1])"
   ]
  },
  {
   "cell_type": "code",
   "execution_count": 18,
   "metadata": {},
   "outputs": [],
   "source": [
    "ken_threes['pps'] = ken_threes.shot_pct*ken_threes.proj_make_pct*3"
   ]
  },
  {
   "cell_type": "code",
   "execution_count": 19,
   "metadata": {},
   "outputs": [
    {
     "data": {
      "text/plain": [
       "0.8978327909270428"
      ]
     },
     "execution_count": 19,
     "metadata": {},
     "output_type": "execute_result"
    }
   ],
   "source": [
    "ken_threes.pps.sum()"
   ]
  },
  {
   "cell_type": "markdown",
   "metadata": {},
   "source": [
    "Our new model is slightly off from the real data, about 2%. I believe that this is still good enough to extrapolate upon. The real data suggests that the points per shot equilibrium is ~.92, our model slightly under predicts at ~.90.\n",
    "\n",
    "We will still use .92 as our benchmark.\n",
    "\n",
    "Now let's evaluate the 4-point, points per shot using the 3 point distribution. We simply add the number to all of our metrics to get the starting point."
   ]
  },
  {
   "cell_type": "code",
   "execution_count": 20,
   "metadata": {},
   "outputs": [],
   "source": [
    "def pps_fpoint(three_distribution, size, pps_benchmark):\n",
    "    new_distribution = three_distribution\n",
    "    plot_data = []\n",
    "    closest = ''\n",
    "    diff = 1000\n",
    "    for i in range(1,size*10):\n",
    "        new_distribution.SHOT_DIST = new_distribution.SHOT_DIST.apply(lambda x: x + (i/10))\n",
    "        new_distribution['proj_make_pct'] = new_distribution.SHOT_DIST.apply(lambda x: log_reg.predict_proba(np.array(x).reshape(-1,1))[0][1])\n",
    "        new_distribution['pps'] = new_distribution.shot_pct*new_distribution.proj_make_pct*4\n",
    "        points_per_shot = new_distribution.pps.sum()\n",
    "        plot_data.append((25.2+i/10,points_per_shot))\n",
    "        if abs(points_per_shot - pps_benchmark) < diff:\n",
    "            closest = str(25.2+i/10)\n",
    "            diff = abs(points_per_shot - pps_benchmark)\n",
    "    return (closest,diff,points_per_shot), plot_data"
   ]
  },
  {
   "cell_type": "code",
   "execution_count": 21,
   "metadata": {},
   "outputs": [],
   "source": [
    "closest, four_pt_dist = pps_fpoint(ken_threes,30,.92)"
   ]
  },
  {
   "cell_type": "code",
   "execution_count": 22,
   "metadata": {},
   "outputs": [
    {
     "data": {
      "text/plain": [
       "('26.0', 0.027131899445960395, 5.125449052975717e-216)"
      ]
     },
     "execution_count": 22,
     "metadata": {},
     "output_type": "execute_result"
    }
   ],
   "source": [
    "closest"
   ]
  },
  {
   "cell_type": "code",
   "execution_count": 23,
   "metadata": {},
   "outputs": [
    {
     "data": {
      "text/plain": [
       "[(25.3, 1.1879036519186021),\n",
       " (25.4, 1.1696123960930866),\n",
       " (25.5, 1.1424851945422918),\n",
       " (25.599999999999998, 1.106904487320992),\n",
       " (25.7, 1.063395914269453),\n",
       " (25.8, 1.0126372159164991),\n",
       " (25.9, 0.9554638469600498),\n",
       " (26.0, 0.8928681005540396),\n",
       " (26.099999999999998, 0.8259886033388695),\n",
       " (26.2, 0.756087668594074),\n",
       " (26.3, 0.6845152772242196),\n",
       " (26.4, 0.6126603415454064),\n",
       " (26.5, 0.541892148580473),\n",
       " (26.599999999999998, 0.4734970412586314),\n",
       " (26.7, 0.40861693860843623),\n",
       " (26.8, 0.3481967400359323),\n",
       " (26.9, 0.29294676483797033),\n",
       " (27.0, 0.24332426629445852),\n",
       " (27.099999999999998, 0.19953519953348917),\n",
       " (27.2, 0.16155448595233007),\n",
       " (27.3, 0.12916065631865334),\n",
       " (27.4, 0.10197940151879649),\n",
       " (27.5, 0.07953032813212071),\n",
       " (27.599999999999998, 0.06127192882188987),\n",
       " (27.7, 0.04664108297028284),\n",
       " (27.8, 0.035084913017765396),\n",
       " (27.9, 0.026084220263118397),\n",
       " (28.0, 0.019168817327247782),\n",
       " (28.099999999999998, 0.013925793086113188),\n",
       " (28.2, 0.010002111503354078),\n",
       " (28.3, 0.007103031639116864),\n",
       " (28.4, 0.004987731787673959),\n",
       " (28.5, 0.003463309169027296),\n",
       " (28.599999999999998, 0.002378072910061169),\n",
       " (28.7, 0.0016147966591553713),\n",
       " (28.8, 0.0010843742465447127),\n",
       " (28.9, 0.0007201394885993504),\n",
       " (29.0, 0.0004729721703165152),\n",
       " (29.099999999999998, 0.00030721331586040947),\n",
       " (29.2, 0.00019734803240192988),\n",
       " (29.299999999999997, 0.0001253764239648964),\n",
       " (29.4, 7.877540741310811e-05),\n",
       " (29.5, 4.895060816543869e-05),\n",
       " (29.6, 3.008283942533379e-05),\n",
       " (29.7, 1.828408746201294e-05),\n",
       " (29.799999999999997, 1.0990609301568692e-05),\n",
       " (29.9, 6.533779130096314e-06),\n",
       " (30.0, 3.841505399901348e-06),\n",
       " (30.1, 2.233741130087606e-06),\n",
       " (30.2, 1.2845726629673844e-06),\n",
       " (30.299999999999997, 7.305988442679165e-07),\n",
       " (30.4, 4.1095453256507224e-07),\n",
       " (30.5, 2.2861412930486527e-07),\n",
       " (30.6, 1.2577863206979297e-07),\n",
       " (30.7, 6.84392396225763e-08),\n",
       " (30.799999999999997, 3.682968429751436e-08),\n",
       " (30.9, 1.960132048190576e-08),\n",
       " (31.0, 1.0317326550859162e-08),\n",
       " (31.1, 5.3708563603564504e-09),\n",
       " (31.2, 2.765122735611764e-09),\n",
       " (31.299999999999997, 1.4079259156026555e-09),\n",
       " (31.4, 7.089893433771402e-10),\n",
       " (31.5, 3.530970802878187e-10),\n",
       " (31.6, 1.7391741031380363e-10),\n",
       " (31.7, 8.472010944363061e-11),\n",
       " (31.799999999999997, 4.0815438889521045e-11),\n",
       " (31.9, 1.9447194067446996e-11),\n",
       " (32.0, 9.163975934319656e-12),\n",
       " (32.1, 4.2707627535740595e-12),\n",
       " (32.2, 1.968436763437401e-12),\n",
       " (32.3, 8.972882964071919e-13),\n",
       " (32.4, 4.045172567380585e-13),\n",
       " (32.5, 1.8035850143939463e-13),\n",
       " (32.6, 7.952994783341773e-14),\n",
       " (32.7, 3.468321048578335e-14),\n",
       " (32.8, 1.49589944184157e-14),\n",
       " (32.9, 6.3808718604730976e-15),\n",
       " (33.0, 2.691858090670576e-15),\n",
       " (33.1, 1.1231009984882578e-15),\n",
       " (33.2, 4.63425556650837e-16),\n",
       " (33.3, 1.8911921728161283e-16),\n",
       " (33.4, 7.63283471123442e-17),\n",
       " (33.5, 3.046706145082933e-17),\n",
       " (33.6, 1.2027345693887875e-17),\n",
       " (33.7, 4.6957344999773015e-18),\n",
       " (33.8, 1.8131418745593886e-18),\n",
       " (33.9, 6.92396010848302e-19),\n",
       " (34.0, 2.6150008880110963e-19),\n",
       " (34.1, 9.767504924895336e-20),\n",
       " (34.2, 3.608194595317038e-20),\n",
       " (34.3, 1.3182287494897822e-20),\n",
       " (34.4, 4.763060752748334e-21),\n",
       " (34.5, 1.7020643580627232e-21),\n",
       " (34.6, 6.015342340696163e-22),\n",
       " (34.7, 2.1025156364263246e-22),\n",
       " (34.8, 7.267961776820659e-23),\n",
       " (34.9, 2.4847377004934222e-23),\n",
       " (35.0, 8.401232020603127e-24),\n",
       " (35.1, 2.8093116684723804e-24),\n",
       " (35.2, 9.29076299929655e-25),\n",
       " (35.3, 3.0387666742235433e-25),\n",
       " (35.4, 9.829645209443642e-26),\n",
       " (35.5, 3.144653835375716e-26),\n",
       " (35.6, 9.949525332355086e-27),\n",
       " (35.7, 3.1133388688050645e-27),\n",
       " (35.8, 9.634849602946138e-28),\n",
       " (35.9, 2.9488861151319937e-28),\n",
       " (36.0, 8.926178676457773e-29),\n",
       " (36.1, 2.6721920391778004e-29),\n",
       " (36.2, 7.911599062784948e-30),\n",
       " (36.3, 2.316623136691962e-30),\n",
       " (36.4, 6.708740960454028e-31),\n",
       " (36.5, 1.9214149759938607e-31),\n",
       " (36.6, 5.442467373730671e-32),\n",
       " (36.7, 1.5246319328595987e-32),\n",
       " (36.8, 4.224046628899199e-33),\n",
       " (36.9, 1.1574091470924363e-33),\n",
       " (37.0, 3.136459120723263e-34),\n",
       " (37.1, 8.405951255449866e-35),\n",
       " (37.2, 2.2280689050174368e-35),\n",
       " (37.3, 5.840699768296699e-36),\n",
       " (37.4, 1.5142433049325512e-36),\n",
       " (37.5, 3.882584856314939e-37),\n",
       " (37.6, 9.845567749405227e-38),\n",
       " (37.7, 2.4691932910878163e-38),\n",
       " (37.8, 6.12440533571571e-39),\n",
       " (37.9, 1.502336707179006e-39),\n",
       " (38.0, 3.6447281891240018e-40),\n",
       " (38.1, 8.744953960027655e-41),\n",
       " (38.2, 2.0751257694051212e-41),\n",
       " (38.3, 4.869964937583043e-42),\n",
       " (38.4, 1.130320904971346e-42),\n",
       " (38.5, 2.5946106705314836e-43),\n",
       " (38.6, 5.890296472526981e-44),\n",
       " (38.7, 1.3225028711786637e-44),\n",
       " (38.8, 2.9366393055425763e-45),\n",
       " (38.9, 6.449099918089412e-46),\n",
       " (39.0, 1.4006902918812729e-46),\n",
       " (39.1, 3.0087052655803343e-47),\n",
       " (39.2, 6.391630907925978e-48),\n",
       " (39.3, 1.3428832130354219e-48),\n",
       " (39.4, 2.79035407929907e-49),\n",
       " (39.5, 5.734227273394258e-50),\n",
       " (39.6, 1.1654268043072877e-50),\n",
       " (39.7, 2.3425540353503005e-51),\n",
       " (39.8, 4.65681244713957e-52),\n",
       " (39.9, 9.155506837395769e-53),\n",
       " (40.0, 1.780207187272424e-53),\n",
       " (40.1, 3.42336513619893e-54),\n",
       " (40.2, 6.5107408823911484e-55),\n",
       " (40.3, 1.2246221602388042e-55),\n",
       " (40.4, 2.2780766421451173e-56),\n",
       " (40.5, 4.1911100322800857e-57),\n",
       " (40.6, 7.625780653301534e-58),\n",
       " (40.7, 1.3722526244142294e-58),\n",
       " (40.8, 2.4421837969295643e-59),\n",
       " (40.9, 4.2985020241733256e-60),\n",
       " (41.0, 7.482564001629454e-61),\n",
       " (41.1, 1.2881850643050667e-61),\n",
       " (41.2, 2.193312901837153e-62),\n",
       " (41.3, 3.693324285237456e-63),\n",
       " (41.4, 6.150760330628773e-64),\n",
       " (41.5, 1.013058867348558e-64),\n",
       " (41.599999999999994, 1.6501942688633975e-65),\n",
       " (41.7, 2.6584590882904236e-66),\n",
       " (41.8, 4.235643526557058e-67),\n",
       " (41.9, 6.6742633447830754e-68),\n",
       " (42.0, 1.0401160284766335e-68),\n",
       " (42.099999999999994, 1.6030783693332132e-69),\n",
       " (42.2, 2.4435556479685665e-70),\n",
       " (42.3, 3.683699779577714e-71),\n",
       " (42.4, 5.492129094827217e-72),\n",
       " (42.5, 8.098260828717366e-73),\n",
       " (42.599999999999994, 1.1809657389154426e-73),\n",
       " (42.7, 1.7032458955949202e-74),\n",
       " (42.8, 2.429472112745104e-75),\n",
       " (42.9, 3.4272122389989586e-76),\n",
       " (43.0, 4.781504804061159e-77),\n",
       " (43.099999999999994, 6.597550261108169e-78),\n",
       " (43.2, 9.003167560112489e-79),\n",
       " (43.3, 1.2150732869317084e-79),\n",
       " (43.4, 1.6218255122818744e-80),\n",
       " (43.5, 2.1409192994694974e-81),\n",
       " (43.599999999999994, 2.795059008751672e-82),\n",
       " (43.7, 3.60891106290898e-83),\n",
       " (43.8, 4.608460746191785e-84),\n",
       " (43.9, 5.82009562569781e-85),\n",
       " (44.0, 7.269404952607163e-86),\n",
       " (44.099999999999994, 8.979706030486113e-87),\n",
       " (44.2, 1.097033502512018e-87),\n",
       " (44.3, 1.325476940889519e-88),\n",
       " (44.4, 1.583867973873597e-89),\n",
       " (44.5, 1.8718036618158516e-90),\n",
       " (44.599999999999994, 2.1877420901817266e-91),\n",
       " (44.7, 2.528869780173236e-92),\n",
       " (44.8, 2.8910215276515533e-93),\n",
       " (44.9, 3.268667155419861e-94),\n",
       " (45.0, 3.6549764854558825e-95),\n",
       " (45.099999999999994, 4.041969107756446e-96),\n",
       " (45.2, 4.4207495075178765e-97),\n",
       " (45.3, 4.781821265790796e-98),\n",
       " (45.4, 5.115466978527604e-99),\n",
       " (45.5, 5.412173949906769e-100),\n",
       " (45.599999999999994, 5.6630803318015874e-101),\n",
       " (45.7, 5.860412856472773e-102),\n",
       " (45.8, 5.997886141319966e-103),\n",
       " (45.9, 6.07103499995223e-104),\n",
       " (46.0, 6.0774552625616455e-105),\n",
       " (46.099999999999994, 6.0169349896333335e-106),\n",
       " (46.2, 5.891466089746286e-107),\n",
       " (46.3, 5.705135453142994e-108),\n",
       " (46.4, 5.463903900671805e-109),\n",
       " (46.5, 5.1752896250868507e-110),\n",
       " (46.599999999999994, 4.847979567359294e-111),\n",
       " (46.7, 4.491396713118612e-112),\n",
       " (46.8, 4.1152532587988963e-113),\n",
       " (46.9, 3.729118917456364e-114),\n",
       " (47.0, 3.3420305273953178e-115),\n",
       " (47.099999999999994, 2.962164051014919e-116),\n",
       " (47.2, 2.5965836374127743e-117),\n",
       " (47.3, 2.2510753877693165e-118),\n",
       " (47.4, 1.9300665223268875e-119),\n",
       " (47.5, 1.636624433566448e-120),\n",
       " (47.599999999999994, 1.3725251082027787e-121),\n",
       " (47.7, 1.1383769142503613e-122),\n",
       " (47.8, 9.337838886315332e-124),\n",
       " (47.9, 7.575323563616259e-125),\n",
       " (48.0, 6.077857496185279e-126),\n",
       " (48.099999999999994, 4.82274560041925e-127),\n",
       " (48.2, 3.7847108775897374e-128),\n",
       " (48.3, 2.9374168232969696e-129),\n",
       " (48.4, 2.2547217897558475e-130),\n",
       " (48.5, 1.7116495905457013e-131),\n",
       " (48.599999999999994, 1.285083281959967e-132),\n",
       " (48.7, 9.542061285537313e-134),\n",
       " (48.8, 7.007250511759184e-135),\n",
       " (48.9, 5.089177529359064e-136),\n",
       " (49.0, 3.655460307392373e-137),\n",
       " (49.099999999999994, 2.596755491124682e-138),\n",
       " (49.2, 1.824376878020695e-139),\n",
       " (49.3, 1.267630192577308e-140),\n",
       " (49.4, 8.710941649909462e-142),\n",
       " (49.5, 5.920142345386803e-143),\n",
       " (49.599999999999994, 3.979181128091132e-144),\n",
       " (49.7, 2.6451468148253144e-145),\n",
       " (49.8, 1.739003155893455e-146),\n",
       " (49.9, 1.1306950033727588e-147),\n",
       " (50.0, 7.270848414960023e-149),\n",
       " (50.099999999999994, 4.6240148744038493e-150),\n",
       " (50.2, 2.9083580317057184e-151),\n",
       " (50.3, 1.8091352272322016e-152),\n",
       " (50.4, 1.1129834488797457e-153),\n",
       " (50.5, 6.771749687518691e-155),\n",
       " (50.599999999999994, 4.0748122333700796e-156),\n",
       " (50.7, 2.4249836838429645e-157),\n",
       " (50.8, 1.4272647995723654e-158),\n",
       " (50.9, 8.307967782046222e-160),\n",
       " (51.0, 4.7827707766545884e-161),\n",
       " (51.099999999999994, 2.7230702463381474e-162),\n",
       " (51.2, 1.5333194240282302e-163),\n",
       " (51.3, 8.538880670229437e-165),\n",
       " (51.4, 4.7028785784131536e-166),\n",
       " (51.5, 2.56165773135098e-167),\n",
       " (51.599999999999994, 1.3799805110643692e-168),\n",
       " (51.7, 7.352233958608455e-170),\n",
       " (51.8, 3.8740051922217114e-171),\n",
       " (51.9, 2.0188106773866445e-172),\n",
       " (52.0, 1.0404602720819337e-173),\n",
       " (52.099999999999994, 5.303345557018844e-175),\n",
       " (52.2, 2.6734302897534983e-176),\n",
       " (52.3, 1.3328531944250594e-177),\n",
       " (52.4, 6.571889985876624e-179),\n",
       " (52.5, 3.2047397471308113e-180),\n",
       " (52.599999999999994, 1.5455738580966923e-181),\n",
       " (52.7, 7.371931221977408e-183),\n",
       " (52.8, 3.4775012964385856e-184),\n",
       " (52.9, 1.6223622822635642e-185),\n",
       " (53.0, 7.485535873976829e-187),\n",
       " (53.099999999999994, 3.415800247336478e-188),\n",
       " (53.2, 1.5415462170893066e-189),\n",
       " (53.3, 6.880423153207145e-191),\n",
       " (53.4, 3.037164129494007e-192),\n",
       " (53.5, 1.3259156294092393e-193),\n",
       " (53.599999999999994, 5.7247698611190874e-195),\n",
       " (53.7, 2.4445261622812926e-196),\n",
       " (53.8, 1.0323473833544235e-197),\n",
       " (53.9, 4.311729901389384e-199),\n",
       " (54.0, 1.7810321064930312e-200),\n",
       " (54.099999999999994, 7.27589568608828e-202),\n",
       " (54.2, 2.939650463270323e-203),\n",
       " (54.3, 1.174625537785958e-204),\n",
       " (54.4, 4.64192049686831e-206),\n",
       " (54.5, 1.8142221782888003e-207),\n",
       " (54.599999999999994, 7.012578892369785e-209),\n",
       " (54.7, 2.680770051879531e-210),\n",
       " (54.8, 1.0135283024442172e-211),\n",
       " (54.9, 3.789716415225176e-213),\n",
       " (55.0, 1.4014320961202986e-214),\n",
       " (55.099999999999994, 5.125449052975717e-216)]"
      ]
     },
     "execution_count": 23,
     "metadata": {},
     "output_type": "execute_result"
    }
   ],
   "source": [
    "four_pt_dist"
   ]
  },
  {
   "cell_type": "markdown",
   "metadata": {},
   "source": [
    "It looks like the model that I built actually projects a 4-point line to only be a few inches back from where my 3-point line was at 26' even. There is a relatively steep drop-off as we get incrementally further from the rim.\n",
    "\n",
    "Most of the other analysis I look at only takes into account shots right at the 3 point or 4 point line. This evaluates for all shots beyond that point."
   ]
  }
 ],
 "metadata": {
  "kernelspec": {
   "display_name": "Python 3",
   "language": "python",
   "name": "python3"
  },
  "language_info": {
   "codemirror_mode": {
    "name": "ipython",
    "version": 3
   },
   "file_extension": ".py",
   "mimetype": "text/x-python",
   "name": "python",
   "nbconvert_exporter": "python",
   "pygments_lexer": "ipython3",
   "version": "3.8.5"
  }
 },
 "nbformat": 4,
 "nbformat_minor": 4
}
